{
 "cells": [
  {
   "cell_type": "code",
   "execution_count": 1,
   "metadata": {},
   "outputs": [],
   "source": [
    "import pandas as pd \n"
   ]
  },
  {
   "cell_type": "code",
   "execution_count": 3,
   "metadata": {},
   "outputs": [
    {
     "data": {
      "text/html": [
       "<div>\n",
       "<style scoped>\n",
       "    .dataframe tbody tr th:only-of-type {\n",
       "        vertical-align: middle;\n",
       "    }\n",
       "\n",
       "    .dataframe tbody tr th {\n",
       "        vertical-align: top;\n",
       "    }\n",
       "\n",
       "    .dataframe thead th {\n",
       "        text-align: right;\n",
       "    }\n",
       "</style>\n",
       "<table border=\"1\" class=\"dataframe\">\n",
       "  <thead>\n",
       "    <tr style=\"text-align: right;\">\n",
       "      <th></th>\n",
       "      <th>Age</th>\n",
       "      <th>Gender</th>\n",
       "      <th>Item ID</th>\n",
       "      <th>Item Name</th>\n",
       "      <th>Price</th>\n",
       "      <th>SN</th>\n",
       "    </tr>\n",
       "  </thead>\n",
       "  <tbody>\n",
       "    <tr>\n",
       "      <th>0</th>\n",
       "      <td>38</td>\n",
       "      <td>Male</td>\n",
       "      <td>165</td>\n",
       "      <td>Bone Crushing Silver Skewer</td>\n",
       "      <td>3.37</td>\n",
       "      <td>Aelalis34</td>\n",
       "    </tr>\n",
       "    <tr>\n",
       "      <th>1</th>\n",
       "      <td>21</td>\n",
       "      <td>Male</td>\n",
       "      <td>119</td>\n",
       "      <td>Stormbringer, Dark Blade of Ending Misery</td>\n",
       "      <td>2.32</td>\n",
       "      <td>Eolo46</td>\n",
       "    </tr>\n",
       "    <tr>\n",
       "      <th>2</th>\n",
       "      <td>34</td>\n",
       "      <td>Male</td>\n",
       "      <td>174</td>\n",
       "      <td>Primitive Blade</td>\n",
       "      <td>2.46</td>\n",
       "      <td>Assastnya25</td>\n",
       "    </tr>\n",
       "    <tr>\n",
       "      <th>3</th>\n",
       "      <td>21</td>\n",
       "      <td>Male</td>\n",
       "      <td>92</td>\n",
       "      <td>Final Critic</td>\n",
       "      <td>1.36</td>\n",
       "      <td>Pheusrical25</td>\n",
       "    </tr>\n",
       "    <tr>\n",
       "      <th>4</th>\n",
       "      <td>23</td>\n",
       "      <td>Male</td>\n",
       "      <td>63</td>\n",
       "      <td>Stormfury Mace</td>\n",
       "      <td>1.27</td>\n",
       "      <td>Aela59</td>\n",
       "    </tr>\n",
       "  </tbody>\n",
       "</table>\n",
       "</div>"
      ],
      "text/plain": [
       "   Age Gender  Item ID                                  Item Name  Price  \\\n",
       "0   38   Male      165                Bone Crushing Silver Skewer   3.37   \n",
       "1   21   Male      119  Stormbringer, Dark Blade of Ending Misery   2.32   \n",
       "2   34   Male      174                            Primitive Blade   2.46   \n",
       "3   21   Male       92                               Final Critic   1.36   \n",
       "4   23   Male       63                             Stormfury Mace   1.27   \n",
       "\n",
       "             SN  \n",
       "0     Aelalis34  \n",
       "1        Eolo46  \n",
       "2   Assastnya25  \n",
       "3  Pheusrical25  \n",
       "4        Aela59  "
      ]
     },
     "execution_count": 3,
     "metadata": {},
     "output_type": "execute_result"
    }
   ],
   "source": [
    "#Json file path\n",
    "purchase_data = 'purchase_data.json'\n",
    "\n",
    "#Read Json\n",
    "purchase_data_df = pd.read_json(purchase_data)\n",
    "\n",
    "#print headers of columns in json\n",
    "purchase_data_df.head()"
   ]
  },
  {
   "cell_type": "code",
   "execution_count": 71,
   "metadata": {},
   "outputs": [
    {
     "data": {
      "text/plain": [
       "573"
      ]
     },
     "execution_count": 71,
     "metadata": {},
     "output_type": "execute_result"
    }
   ],
   "source": [
    "#Total Number of players \n",
    "\n",
    "#Show total members \n",
    "total_players = purchase_data_df.groupby(\"SN\")[\"SN\"].nunique()\n",
    "total_players.count()"
   ]
  },
  {
   "cell_type": "code",
   "execution_count": 72,
   "metadata": {},
   "outputs": [
    {
     "data": {
      "text/plain": [
       "179"
      ]
     },
     "execution_count": 72,
     "metadata": {},
     "output_type": "execute_result"
    }
   ],
   "source": [
    "# Purchasing Analysis (Total)\n",
    "\n",
    "#Number of Unique Items\n",
    "items_df = purchase_data_df.groupby(\"Item Name\")[\"Item Name\"].nunique()\n",
    "items_df.count()"
   ]
  },
  {
   "cell_type": "code",
   "execution_count": 73,
   "metadata": {},
   "outputs": [
    {
     "data": {
      "text/plain": [
       "2.93"
      ]
     },
     "execution_count": 73,
     "metadata": {},
     "output_type": "execute_result"
    }
   ],
   "source": [
    "#Average Purchase Price\n",
    "average_price = purchase_data_df[\"Price\"].mean()\n",
    "round(average_price, 2)"
   ]
  },
  {
   "cell_type": "code",
   "execution_count": 32,
   "metadata": {},
   "outputs": [
    {
     "data": {
      "text/plain": [
       "780"
      ]
     },
     "execution_count": 32,
     "metadata": {},
     "output_type": "execute_result"
    }
   ],
   "source": [
    "#Total Number of Purchases\n",
    "Total_Purchases = len(purchase_data_df)\n",
    "Total_Purchases"
   ]
  },
  {
   "cell_type": "code",
   "execution_count": 36,
   "metadata": {},
   "outputs": [
    {
     "data": {
      "text/plain": [
       "2286.33"
      ]
     },
     "execution_count": 36,
     "metadata": {},
     "output_type": "execute_result"
    }
   ],
   "source": [
    "#Total Revenue\n",
    "Total_Revenue = purchase_data_df[\"Price\"].sum()\n",
    "round(Total_Revenue,2)\n"
   ]
  },
  {
   "cell_type": "code",
   "execution_count": 38,
   "metadata": {},
   "outputs": [
    {
     "data": {
      "text/html": [
       "<div>\n",
       "<style scoped>\n",
       "    .dataframe tbody tr th:only-of-type {\n",
       "        vertical-align: middle;\n",
       "    }\n",
       "\n",
       "    .dataframe tbody tr th {\n",
       "        vertical-align: top;\n",
       "    }\n",
       "\n",
       "    .dataframe thead th {\n",
       "        text-align: right;\n",
       "    }\n",
       "</style>\n",
       "<table border=\"1\" class=\"dataframe\">\n",
       "  <thead>\n",
       "    <tr style=\"text-align: right;\">\n",
       "      <th></th>\n",
       "      <th>Average Purchase Price</th>\n",
       "      <th>Number of Unique Items</th>\n",
       "      <th>Total Number of Purchases</th>\n",
       "      <th>Total Revenue</th>\n",
       "    </tr>\n",
       "  </thead>\n",
       "  <tbody>\n",
       "    <tr>\n",
       "      <th>0</th>\n",
       "      <td>2.93</td>\n",
       "      <td>Item Name\n",
       "Abyssal Shard                       ...</td>\n",
       "      <td>780</td>\n",
       "      <td>2286.33</td>\n",
       "    </tr>\n",
       "  </tbody>\n",
       "</table>\n",
       "</div>"
      ],
      "text/plain": [
       "   Average Purchase Price                             Number of Unique Items  \\\n",
       "0                    2.93  Item Name\n",
       "Abyssal Shard                       ...   \n",
       "\n",
       "   Total Number of Purchases  Total Revenue  \n",
       "0                        780        2286.33  "
      ]
     },
     "execution_count": 38,
     "metadata": {},
     "output_type": "execute_result"
    }
   ],
   "source": [
    "#Creating a DataFrame for our summarized data above: \n",
    "\n",
    "Purchasing_Analysis = pd.DataFrame({\"Number of Unique Items\":[items_df], \n",
    "                                    \"Average Purchase Price\": [round(average_price,2)],\n",
    "                                    \"Total Number of Purchases\":[Total_Purchases],\n",
    "                                    \"Total Revenue\":[Total_Revenue]})\n",
    "Purchasing_Analysis"
   ]
  },
  {
   "cell_type": "code",
   "execution_count": 42,
   "metadata": {},
   "outputs": [
    {
     "data": {
      "text/plain": [
       "Gender\n",
       "Female                   100\n",
       "Male                     465\n",
       "Other / Non-Disclosed      8\n",
       "Name: SN, dtype: int64"
      ]
     },
     "execution_count": 42,
     "metadata": {},
     "output_type": "execute_result"
    }
   ],
   "source": [
    "# Counting the total amounts for gender ( Female, Male, Other/ Non-Disclosed):\n",
    "\n",
    "gender_count = purchase_data_df.groupby(\"Gender\")[\"SN\"].nunique()\n",
    "gender_count.head()"
   ]
  },
  {
   "cell_type": "code",
   "execution_count": 43,
   "metadata": {},
   "outputs": [
    {
     "data": {
      "text/plain": [
       "Gender\n",
       "Female                   0.17\n",
       "Male                     0.81\n",
       "Other / Non-Disclosed    0.01\n",
       "Name: SN, dtype: float64"
      ]
     },
     "execution_count": 43,
     "metadata": {},
     "output_type": "execute_result"
    }
   ],
   "source": [
    "#Calculating the Percentages for Females, Males and Other/ Non-Disclosed:\n",
    "gender_percents = gender_count/573\n",
    "round(gender_percents,2)"
   ]
  },
  {
   "cell_type": "code",
   "execution_count": 47,
   "metadata": {},
   "outputs": [
    {
     "data": {
      "text/html": [
       "<div>\n",
       "<style scoped>\n",
       "    .dataframe tbody tr th:only-of-type {\n",
       "        vertical-align: middle;\n",
       "    }\n",
       "\n",
       "    .dataframe tbody tr th {\n",
       "        vertical-align: top;\n",
       "    }\n",
       "\n",
       "    .dataframe thead th {\n",
       "        text-align: right;\n",
       "    }\n",
       "</style>\n",
       "<table border=\"1\" class=\"dataframe\">\n",
       "  <thead>\n",
       "    <tr style=\"text-align: right;\">\n",
       "      <th></th>\n",
       "      <th>Gender Percentage %</th>\n",
       "      <th>Gender Count</th>\n",
       "    </tr>\n",
       "    <tr>\n",
       "      <th>Gender</th>\n",
       "      <th></th>\n",
       "      <th></th>\n",
       "    </tr>\n",
       "  </thead>\n",
       "  <tbody>\n",
       "    <tr>\n",
       "      <th>Female</th>\n",
       "      <td>0.17</td>\n",
       "      <td>100</td>\n",
       "    </tr>\n",
       "    <tr>\n",
       "      <th>Male</th>\n",
       "      <td>0.81</td>\n",
       "      <td>465</td>\n",
       "    </tr>\n",
       "    <tr>\n",
       "      <th>Other / Non-Disclosed</th>\n",
       "      <td>0.01</td>\n",
       "      <td>8</td>\n",
       "    </tr>\n",
       "  </tbody>\n",
       "</table>\n",
       "</div>"
      ],
      "text/plain": [
       "                        Gender Percentage %  Gender Count\n",
       "Gender                                                   \n",
       "Female                                 0.17           100\n",
       "Male                                   0.81           465\n",
       "Other / Non-Disclosed                  0.01             8"
      ]
     },
     "execution_count": 47,
     "metadata": {},
     "output_type": "execute_result"
    }
   ],
   "source": [
    "#Creating a Data Frame for our Gender Demographics \n",
    "gender_demographics = pd.DataFrame({\"Gender Count\": gender_count, \n",
    "                                    \"Gender Percentage %\": round(gender_percents,2)})\n",
    "gender_demographics"
   ]
  },
  {
   "cell_type": "code",
   "execution_count": 48,
   "metadata": {},
   "outputs": [
    {
     "data": {
      "text/plain": [
       "Gender\n",
       "Female                   136\n",
       "Male                     633\n",
       "Other / Non-Disclosed     11\n",
       "Name: Item Name, dtype: int64"
      ]
     },
     "execution_count": 48,
     "metadata": {},
     "output_type": "execute_result"
    }
   ],
   "source": [
    "#Purchasing Analysis (Gender)\n",
    "\n",
    "#Purchase Count - \n",
    "\n",
    "#The Total number of purchases for Female, Male and Other/Non-Disclosed: \n",
    "\n",
    "gender_purchases = purchase_data_df.groupby(\"Gender\")[\"Item Name\"]\n",
    "gender_purchases.count()\n"
   ]
  },
  {
   "cell_type": "code",
   "execution_count": 50,
   "metadata": {},
   "outputs": [
    {
     "data": {
      "text/plain": [
       "Gender\n",
       "Female                   2.82\n",
       "Male                     2.95\n",
       "Other / Non-Disclosed    3.25\n",
       "Name: Price, dtype: float64"
      ]
     },
     "execution_count": 50,
     "metadata": {},
     "output_type": "execute_result"
    }
   ],
   "source": [
    " #Average Purchase Price by Gender: \n",
    "gender_average = purchase_data_df.groupby(\"Gender\")[\"Price\"].mean()\n",
    "round(gender_average,2)"
   ]
  },
  {
   "cell_type": "code",
   "execution_count": 51,
   "metadata": {},
   "outputs": [
    {
     "data": {
      "text/plain": [
       "Gender\n",
       "Female                    382.91\n",
       "Male                     1867.68\n",
       "Other / Non-Disclosed      35.74\n",
       "Name: Price, dtype: float64"
      ]
     },
     "execution_count": 51,
     "metadata": {},
     "output_type": "execute_result"
    }
   ],
   "source": [
    "#Total Purchase Value by Gender: \n",
    "gender_purchase_total = purchase_data_df.groupby(\"Gender\")[\"Price\"].sum()\n",
    "gender_purchase_total"
   ]
  },
  {
   "cell_type": "code",
   "execution_count": 53,
   "metadata": {},
   "outputs": [
    {
     "data": {
      "text/plain": [
       "Gender\n",
       "Female                   3.83\n",
       "Male                     4.02\n",
       "Other / Non-Disclosed    4.47\n",
       "dtype: float64"
      ]
     },
     "execution_count": 53,
     "metadata": {},
     "output_type": "execute_result"
    }
   ],
   "source": [
    "#Normalized Total for Genders:\n",
    "normalized_gender_total = gender_purchase_total/gender_count\n",
    "round(normalized_gender_total,2)"
   ]
  },
  {
   "cell_type": "code",
   "execution_count": 56,
   "metadata": {},
   "outputs": [
    {
     "data": {
      "text/html": [
       "<div>\n",
       "<style scoped>\n",
       "    .dataframe tbody tr th:only-of-type {\n",
       "        vertical-align: middle;\n",
       "    }\n",
       "\n",
       "    .dataframe tbody tr th {\n",
       "        vertical-align: top;\n",
       "    }\n",
       "\n",
       "    .dataframe thead th {\n",
       "        text-align: right;\n",
       "    }\n",
       "</style>\n",
       "<table border=\"1\" class=\"dataframe\">\n",
       "  <thead>\n",
       "    <tr style=\"text-align: right;\">\n",
       "      <th></th>\n",
       "      <th>Average Purchase Price</th>\n",
       "      <th>Total Purchase Value</th>\n",
       "      <th>Normalized Totals</th>\n",
       "      <th>Purchase Count</th>\n",
       "    </tr>\n",
       "    <tr>\n",
       "      <th>Gender</th>\n",
       "      <th></th>\n",
       "      <th></th>\n",
       "      <th></th>\n",
       "      <th></th>\n",
       "    </tr>\n",
       "  </thead>\n",
       "  <tbody>\n",
       "    <tr>\n",
       "      <th>Female</th>\n",
       "      <td>2.82</td>\n",
       "      <td>382.91</td>\n",
       "      <td>3.83</td>\n",
       "      <td>(Female, [Interrogator, Blood Blade of the Que...</td>\n",
       "    </tr>\n",
       "    <tr>\n",
       "      <th>Male</th>\n",
       "      <td>2.95</td>\n",
       "      <td>1867.68</td>\n",
       "      <td>4.02</td>\n",
       "      <td>(Male, [Bone Crushing Silver Skewer, Stormbrin...</td>\n",
       "    </tr>\n",
       "    <tr>\n",
       "      <th>Other / Non-Disclosed</th>\n",
       "      <td>3.25</td>\n",
       "      <td>35.74</td>\n",
       "      <td>4.47</td>\n",
       "      <td>(Other / Non-Disclosed, [War-Forged Gold Defle...</td>\n",
       "    </tr>\n",
       "  </tbody>\n",
       "</table>\n",
       "</div>"
      ],
      "text/plain": [
       "                        Average Purchase Price   Total Purchase Value  \\\n",
       "Gender                                                                  \n",
       "Female                                    2.82                 382.91   \n",
       "Male                                      2.95                1867.68   \n",
       "Other / Non-Disclosed                     3.25                  35.74   \n",
       "\n",
       "                       Normalized Totals  \\\n",
       "Gender                                     \n",
       "Female                              3.83   \n",
       "Male                                4.02   \n",
       "Other / Non-Disclosed               4.47   \n",
       "\n",
       "                                                          Purchase Count  \n",
       "Gender                                                                    \n",
       "Female                 (Female, [Interrogator, Blood Blade of the Que...  \n",
       "Male                   (Male, [Bone Crushing Silver Skewer, Stormbrin...  \n",
       "Other / Non-Disclosed  (Other / Non-Disclosed, [War-Forged Gold Defle...  "
      ]
     },
     "execution_count": 56,
     "metadata": {},
     "output_type": "execute_result"
    }
   ],
   "source": [
    "gender_analysis = pd.DataFrame({\"Purchase Count\":gender_purchases,\n",
    "                                 \" Average Purchase Price\": round(gender_average,2),\n",
    "                                \" Total Purchase Value\": gender_purchase_total,\n",
    "                               \"Normalized Totals\": round(normalized_gender_total,2)})\n",
    "gender_analysis"
   ]
  },
  {
   "cell_type": "code",
   "execution_count": 58,
   "metadata": {},
   "outputs": [],
   "source": [
    "#Age Demographics\n",
    "\n",
    "#The below each broken into bins of 4 years (i.e. <10, 10-14, 15-19, etc.)\n",
    "bins = [0,10,15,20,25,30,35,40,45]\n",
    "age_ranges = [\"<10\",\"10-14\", \"15-19\", \"20-24\", \"25-29\", \"30-34\", \"35-39\", \">=40\"]   "
   ]
  },
  {
   "cell_type": "code",
   "execution_count": 59,
   "metadata": {},
   "outputs": [
    {
     "data": {
      "text/plain": [
       "0      35-39\n",
       "1      20-24\n",
       "2      30-34\n",
       "3      20-24\n",
       "4      20-24\n",
       "5      15-19\n",
       "6      15-19\n",
       "7      25-29\n",
       "8      20-24\n",
       "9      30-34\n",
       "10     20-24\n",
       "11     15-19\n",
       "12     25-29\n",
       "13     20-24\n",
       "14     35-39\n",
       "15     20-24\n",
       "16     20-24\n",
       "17     20-24\n",
       "18     25-29\n",
       "19     30-34\n",
       "20     20-24\n",
       "21     10-14\n",
       "22     10-14\n",
       "23     15-19\n",
       "24     10-14\n",
       "25     20-24\n",
       "26     25-29\n",
       "27     30-34\n",
       "28     10-14\n",
       "29     15-19\n",
       "       ...  \n",
       "750    20-24\n",
       "751    25-29\n",
       "752    10-14\n",
       "753    15-19\n",
       "754    30-34\n",
       "755    20-24\n",
       "756    20-24\n",
       "757    30-34\n",
       "758    15-19\n",
       "759    15-19\n",
       "760    25-29\n",
       "761    25-29\n",
       "762    35-39\n",
       "763    25-29\n",
       "764    20-24\n",
       "765    10-14\n",
       "766    20-24\n",
       "767    15-19\n",
       "768    20-24\n",
       "769    20-24\n",
       "770    20-24\n",
       "771    20-24\n",
       "772    10-14\n",
       "773    20-24\n",
       "774    20-24\n",
       "775    20-24\n",
       "776    10-14\n",
       "777    15-19\n",
       "778    15-19\n",
       "779    20-24\n",
       "Name: Age, Length: 780, dtype: category\n",
       "Categories (8, object): [<10 < 10-14 < 15-19 < 20-24 < 25-29 < 30-34 < 35-39 < >=40]"
      ]
     },
     "execution_count": 59,
     "metadata": {},
     "output_type": "execute_result"
    }
   ],
   "source": [
    "# First we have to cut the purchase data and place the ages into the bins we created above \n",
    "pd.cut(purchase_data_df[\"Age\"], bins, labels=age_ranges)"
   ]
  },
  {
   "cell_type": "code",
   "execution_count": 60,
   "metadata": {},
   "outputs": [
    {
     "data": {
      "text/html": [
       "<div>\n",
       "<style scoped>\n",
       "    .dataframe tbody tr th:only-of-type {\n",
       "        vertical-align: middle;\n",
       "    }\n",
       "\n",
       "    .dataframe tbody tr th {\n",
       "        vertical-align: top;\n",
       "    }\n",
       "\n",
       "    .dataframe thead th {\n",
       "        text-align: right;\n",
       "    }\n",
       "</style>\n",
       "<table border=\"1\" class=\"dataframe\">\n",
       "  <thead>\n",
       "    <tr style=\"text-align: right;\">\n",
       "      <th></th>\n",
       "      <th>Age</th>\n",
       "      <th>Gender</th>\n",
       "      <th>Item ID</th>\n",
       "      <th>Item Name</th>\n",
       "      <th>Price</th>\n",
       "      <th>SN</th>\n",
       "      <th>Age Range</th>\n",
       "    </tr>\n",
       "  </thead>\n",
       "  <tbody>\n",
       "    <tr>\n",
       "      <th>0</th>\n",
       "      <td>38</td>\n",
       "      <td>Male</td>\n",
       "      <td>165</td>\n",
       "      <td>Bone Crushing Silver Skewer</td>\n",
       "      <td>3.37</td>\n",
       "      <td>Aelalis34</td>\n",
       "      <td>35-39</td>\n",
       "    </tr>\n",
       "    <tr>\n",
       "      <th>1</th>\n",
       "      <td>21</td>\n",
       "      <td>Male</td>\n",
       "      <td>119</td>\n",
       "      <td>Stormbringer, Dark Blade of Ending Misery</td>\n",
       "      <td>2.32</td>\n",
       "      <td>Eolo46</td>\n",
       "      <td>20-24</td>\n",
       "    </tr>\n",
       "    <tr>\n",
       "      <th>2</th>\n",
       "      <td>34</td>\n",
       "      <td>Male</td>\n",
       "      <td>174</td>\n",
       "      <td>Primitive Blade</td>\n",
       "      <td>2.46</td>\n",
       "      <td>Assastnya25</td>\n",
       "      <td>30-34</td>\n",
       "    </tr>\n",
       "    <tr>\n",
       "      <th>3</th>\n",
       "      <td>21</td>\n",
       "      <td>Male</td>\n",
       "      <td>92</td>\n",
       "      <td>Final Critic</td>\n",
       "      <td>1.36</td>\n",
       "      <td>Pheusrical25</td>\n",
       "      <td>20-24</td>\n",
       "    </tr>\n",
       "    <tr>\n",
       "      <th>4</th>\n",
       "      <td>23</td>\n",
       "      <td>Male</td>\n",
       "      <td>63</td>\n",
       "      <td>Stormfury Mace</td>\n",
       "      <td>1.27</td>\n",
       "      <td>Aela59</td>\n",
       "      <td>20-24</td>\n",
       "    </tr>\n",
       "  </tbody>\n",
       "</table>\n",
       "</div>"
      ],
      "text/plain": [
       "   Age Gender  Item ID                                  Item Name  Price  \\\n",
       "0   38   Male      165                Bone Crushing Silver Skewer   3.37   \n",
       "1   21   Male      119  Stormbringer, Dark Blade of Ending Misery   2.32   \n",
       "2   34   Male      174                            Primitive Blade   2.46   \n",
       "3   21   Male       92                               Final Critic   1.36   \n",
       "4   23   Male       63                             Stormfury Mace   1.27   \n",
       "\n",
       "             SN Age Range  \n",
       "0     Aelalis34     35-39  \n",
       "1        Eolo46     20-24  \n",
       "2   Assastnya25     30-34  \n",
       "3  Pheusrical25     20-24  \n",
       "4        Aela59     20-24  "
      ]
     },
     "execution_count": 60,
     "metadata": {},
     "output_type": "execute_result"
    }
   ],
   "source": [
    "#Show our age range in our data frame: \n",
    "purchase_data_df[\"Age Range\"]= pd.cut(purchase_data_df[\"Age\"], bins, labels= age_ranges)\n",
    "purchase_data_df.head()"
   ]
  },
  {
   "cell_type": "code",
   "execution_count": 61,
   "metadata": {},
   "outputs": [
    {
     "data": {
      "text/plain": [
       "Age Range\n",
       "<10       32\n",
       "10-14     78\n",
       "15-19    184\n",
       "20-24    305\n",
       "25-29     76\n",
       "30-34     58\n",
       "35-39     44\n",
       ">=40       3\n",
       "Name: Item Name, dtype: int64"
      ]
     },
     "execution_count": 61,
     "metadata": {},
     "output_type": "execute_result"
    }
   ],
   "source": [
    "#Purchase Count by Age Range:\n",
    "age_group_count = purchase_data_df.groupby(\"Age Range\")[\"Item Name\"]\n",
    "age_group_count.count()"
   ]
  },
  {
   "cell_type": "code",
   "execution_count": 62,
   "metadata": {},
   "outputs": [
    {
     "data": {
      "text/plain": [
       "Age Range\n",
       "<10      3.02\n",
       "10-14    2.87\n",
       "15-19    2.87\n",
       "20-24    2.96\n",
       "25-29    2.89\n",
       "30-34    3.07\n",
       "35-39    2.90\n",
       ">=40     2.88\n",
       "Name: Price, dtype: float64"
      ]
     },
     "execution_count": 62,
     "metadata": {},
     "output_type": "execute_result"
    }
   ],
   "source": [
    "#Average Purchase Price by Age Range:\n",
    "age_group_average = purchase_data_df.groupby(\"Age Range\")[\"Price\"].mean()\n",
    "round(age_group_average,2)"
   ]
  },
  {
   "cell_type": "code",
   "execution_count": 63,
   "metadata": {},
   "outputs": [
    {
     "data": {
      "text/plain": [
       "Age Range\n",
       "<10       96.62\n",
       "10-14    224.15\n",
       "15-19    528.74\n",
       "20-24    902.61\n",
       "25-29    219.82\n",
       "30-34    178.26\n",
       "35-39    127.49\n",
       ">=40       8.64\n",
       "Name: Price, dtype: float64"
      ]
     },
     "execution_count": 63,
     "metadata": {},
     "output_type": "execute_result"
    }
   ],
   "source": [
    "# Total Purchase Value by Age Range:\n",
    "age_group_total = purchase_data_df.groupby(\"Age Range\")[\"Price\"].sum()\n",
    "age_group_total \n"
   ]
  },
  {
   "cell_type": "code",
   "execution_count": 67,
   "metadata": {},
   "outputs": [
    {
     "data": {
      "text/plain": [
       "Age Range\n",
       "<10      0.17\n",
       "10-14    0.39\n",
       "15-19    0.92\n",
       "20-24    1.58\n",
       "25-29    0.38\n",
       "30-34    0.31\n",
       "35-39    0.22\n",
       ">=40     0.02\n",
       "Name: Price, dtype: float64"
      ]
     },
     "execution_count": 67,
     "metadata": {},
     "output_type": "execute_result"
    }
   ],
   "source": [
    "# Normalized Totals by Age Range:\n",
    "normalized_age_total = age_group_total/total_players.count()\n",
    "round(normalized_age_total,2)"
   ]
  },
  {
   "cell_type": "code",
   "execution_count": 70,
   "metadata": {},
   "outputs": [
    {
     "data": {
      "text/html": [
       "<div>\n",
       "<style scoped>\n",
       "    .dataframe tbody tr th:only-of-type {\n",
       "        vertical-align: middle;\n",
       "    }\n",
       "\n",
       "    .dataframe tbody tr th {\n",
       "        vertical-align: top;\n",
       "    }\n",
       "\n",
       "    .dataframe thead th {\n",
       "        text-align: right;\n",
       "    }\n",
       "</style>\n",
       "<table border=\"1\" class=\"dataframe\">\n",
       "  <thead>\n",
       "    <tr style=\"text-align: right;\">\n",
       "      <th></th>\n",
       "      <th>Average Purchase Price</th>\n",
       "      <th>Normalized Totals</th>\n",
       "      <th>Purchase Count</th>\n",
       "      <th>Total Purchase Value</th>\n",
       "    </tr>\n",
       "    <tr>\n",
       "      <th>Age Range</th>\n",
       "      <th></th>\n",
       "      <th></th>\n",
       "      <th></th>\n",
       "      <th></th>\n",
       "    </tr>\n",
       "  </thead>\n",
       "  <tbody>\n",
       "    <tr>\n",
       "      <th>&lt;10</th>\n",
       "      <td>3.02</td>\n",
       "      <td>0.17</td>\n",
       "      <td>(&lt;10, [Darkheart, Butcher of the Champion, Woe...</td>\n",
       "      <td>96.62</td>\n",
       "    </tr>\n",
       "    <tr>\n",
       "      <th>10-14</th>\n",
       "      <td>2.87</td>\n",
       "      <td>0.39</td>\n",
       "      <td>(10-14, [Phantomlight, Brimstone, Conqueror Ad...</td>\n",
       "      <td>224.15</td>\n",
       "    </tr>\n",
       "    <tr>\n",
       "      <th>15-19</th>\n",
       "      <td>2.87</td>\n",
       "      <td>0.92</td>\n",
       "      <td>(15-19, [Sleepwalker, Mercenary Sabre, Alpha, ...</td>\n",
       "      <td>528.74</td>\n",
       "    </tr>\n",
       "    <tr>\n",
       "      <th>20-24</th>\n",
       "      <td>2.96</td>\n",
       "      <td>1.58</td>\n",
       "      <td>(20-24, [Stormbringer, Dark Blade of Ending Mi...</td>\n",
       "      <td>902.61</td>\n",
       "    </tr>\n",
       "    <tr>\n",
       "      <th>25-29</th>\n",
       "      <td>2.89</td>\n",
       "      <td>0.38</td>\n",
       "      <td>(25-29, [Interrogator, Blood Blade of the Quee...</td>\n",
       "      <td>219.82</td>\n",
       "    </tr>\n",
       "    <tr>\n",
       "      <th>30-34</th>\n",
       "      <td>3.07</td>\n",
       "      <td>0.31</td>\n",
       "      <td>(30-34, [Primitive Blade, Expiration, Warscyth...</td>\n",
       "      <td>178.26</td>\n",
       "    </tr>\n",
       "    <tr>\n",
       "      <th>35-39</th>\n",
       "      <td>2.90</td>\n",
       "      <td>0.22</td>\n",
       "      <td>(35-39, [Bone Crushing Silver Skewer, Bonecarv...</td>\n",
       "      <td>127.49</td>\n",
       "    </tr>\n",
       "    <tr>\n",
       "      <th>&gt;=40</th>\n",
       "      <td>2.88</td>\n",
       "      <td>0.02</td>\n",
       "      <td>(&gt;=40, [Venom Claymore, Suspension, Despair, F...</td>\n",
       "      <td>8.64</td>\n",
       "    </tr>\n",
       "  </tbody>\n",
       "</table>\n",
       "</div>"
      ],
      "text/plain": [
       "           Average Purchase Price  Normalized Totals  \\\n",
       "Age Range                                              \n",
       "<10                          3.02               0.17   \n",
       "10-14                        2.87               0.39   \n",
       "15-19                        2.87               0.92   \n",
       "20-24                        2.96               1.58   \n",
       "25-29                        2.89               0.38   \n",
       "30-34                        3.07               0.31   \n",
       "35-39                        2.90               0.22   \n",
       ">=40                         2.88               0.02   \n",
       "\n",
       "                                              Purchase Count  \\\n",
       "Age Range                                                      \n",
       "<10        (<10, [Darkheart, Butcher of the Champion, Woe...   \n",
       "10-14      (10-14, [Phantomlight, Brimstone, Conqueror Ad...   \n",
       "15-19      (15-19, [Sleepwalker, Mercenary Sabre, Alpha, ...   \n",
       "20-24      (20-24, [Stormbringer, Dark Blade of Ending Mi...   \n",
       "25-29      (25-29, [Interrogator, Blood Blade of the Quee...   \n",
       "30-34      (30-34, [Primitive Blade, Expiration, Warscyth...   \n",
       "35-39      (35-39, [Bone Crushing Silver Skewer, Bonecarv...   \n",
       ">=40       (>=40, [Venom Claymore, Suspension, Despair, F...   \n",
       "\n",
       "           Total Purchase Value  \n",
       "Age Range                        \n",
       "<10                       96.62  \n",
       "10-14                    224.15  \n",
       "15-19                    528.74  \n",
       "20-24                    902.61  \n",
       "25-29                    219.82  \n",
       "30-34                    178.26  \n",
       "35-39                    127.49  \n",
       ">=40                       8.64  "
      ]
     },
     "execution_count": 70,
     "metadata": {},
     "output_type": "execute_result"
    }
   ],
   "source": [
    "#Create a new DataFrame with our above analysis: \n",
    "age_range_df = pd.DataFrame({\"Purchase Count\": age_group_count,\n",
    "                           \"Average Purchase Price\": round(age_group_average,2),\n",
    "                           \"Total Purchase Value\": round(age_group_total,2),\n",
    "                           \"Normalized Totals\": round(normalized_age_total,2)})\n",
    "age_range_df"
   ]
  },
  {
   "cell_type": "code",
   "execution_count": 75,
   "metadata": {},
   "outputs": [
    {
     "data": {
      "text/html": [
       "<div>\n",
       "<style scoped>\n",
       "    .dataframe tbody tr th:only-of-type {\n",
       "        vertical-align: middle;\n",
       "    }\n",
       "\n",
       "    .dataframe tbody tr th {\n",
       "        vertical-align: top;\n",
       "    }\n",
       "\n",
       "    .dataframe thead th {\n",
       "        text-align: right;\n",
       "    }\n",
       "</style>\n",
       "<table border=\"1\" class=\"dataframe\">\n",
       "  <thead>\n",
       "    <tr style=\"text-align: right;\">\n",
       "      <th></th>\n",
       "      <th>Average Purchase Price</th>\n",
       "      <th>Purchase Coount</th>\n",
       "      <th>Total Purchase Value</th>\n",
       "    </tr>\n",
       "    <tr>\n",
       "      <th>SN</th>\n",
       "      <th></th>\n",
       "      <th></th>\n",
       "      <th></th>\n",
       "    </tr>\n",
       "  </thead>\n",
       "  <tbody>\n",
       "    <tr>\n",
       "      <th>Adairialis76</th>\n",
       "      <td>2.46</td>\n",
       "      <td>1</td>\n",
       "      <td>2.46</td>\n",
       "    </tr>\n",
       "    <tr>\n",
       "      <th>Aduephos78</th>\n",
       "      <td>2.23</td>\n",
       "      <td>3</td>\n",
       "      <td>6.70</td>\n",
       "    </tr>\n",
       "    <tr>\n",
       "      <th>Aeduera68</th>\n",
       "      <td>1.93</td>\n",
       "      <td>3</td>\n",
       "      <td>5.80</td>\n",
       "    </tr>\n",
       "    <tr>\n",
       "      <th>Aela49</th>\n",
       "      <td>2.46</td>\n",
       "      <td>1</td>\n",
       "      <td>2.46</td>\n",
       "    </tr>\n",
       "    <tr>\n",
       "      <th>Aela59</th>\n",
       "      <td>1.27</td>\n",
       "      <td>1</td>\n",
       "      <td>1.27</td>\n",
       "    </tr>\n",
       "  </tbody>\n",
       "</table>\n",
       "</div>"
      ],
      "text/plain": [
       "              Average Purchase Price  Purchase Coount  Total Purchase Value\n",
       "SN                                                                         \n",
       "Adairialis76                    2.46                1                  2.46\n",
       "Aduephos78                      2.23                3                  6.70\n",
       "Aeduera68                       1.93                3                  5.80\n",
       "Aela49                          2.46                1                  2.46\n",
       "Aela59                          1.27                1                  1.27"
      ]
     },
     "execution_count": 75,
     "metadata": {},
     "output_type": "execute_result"
    }
   ],
   "source": [
    "# Top Spenders - Spending Analysis\n",
    "players_purchase_count = purchase_data_df.groupby(\"SN\").count()[\"Price\"].rename(\"Purchase Count\")\n",
    "players_average_price = purchase_data_df.groupby(\"SN\").mean()[\"Price\"].rename(\"Average Purchase Price\")\n",
    "players_total = purchase_data_df.groupby(\"SN\").sum()[\"Price\"].rename(\"Total Purchase Value\")\n",
    "\n",
    "#Puting our data in a DataFrame: \n",
    "\n",
    "total_user_data = pd.DataFrame({\"Purchase Coount\": players_purchase_count,\n",
    "                               \"Average Purchase Price\": round(players_average_price,2),\n",
    "                               \"Total Purchase Value\": players_total})\n",
    "total_user_data.head()"
   ]
  },
  {
   "cell_type": "code",
   "execution_count": 76,
   "metadata": {},
   "outputs": [
    {
     "data": {
      "text/html": [
       "<div>\n",
       "<style scoped>\n",
       "    .dataframe tbody tr th:only-of-type {\n",
       "        vertical-align: middle;\n",
       "    }\n",
       "\n",
       "    .dataframe tbody tr th {\n",
       "        vertical-align: top;\n",
       "    }\n",
       "\n",
       "    .dataframe thead th {\n",
       "        text-align: right;\n",
       "    }\n",
       "</style>\n",
       "<table border=\"1\" class=\"dataframe\">\n",
       "  <thead>\n",
       "    <tr style=\"text-align: right;\">\n",
       "      <th></th>\n",
       "      <th>Average Purchase Price</th>\n",
       "      <th>Purchase Coount</th>\n",
       "      <th>Total Purchase Value</th>\n",
       "    </tr>\n",
       "    <tr>\n",
       "      <th>SN</th>\n",
       "      <th></th>\n",
       "      <th></th>\n",
       "      <th></th>\n",
       "    </tr>\n",
       "  </thead>\n",
       "  <tbody>\n",
       "    <tr>\n",
       "      <th>Undirrala66</th>\n",
       "      <td>3.41</td>\n",
       "      <td>5</td>\n",
       "      <td>17.06</td>\n",
       "    </tr>\n",
       "    <tr>\n",
       "      <th>Saedue76</th>\n",
       "      <td>3.39</td>\n",
       "      <td>4</td>\n",
       "      <td>13.56</td>\n",
       "    </tr>\n",
       "    <tr>\n",
       "      <th>Mindimnya67</th>\n",
       "      <td>3.18</td>\n",
       "      <td>4</td>\n",
       "      <td>12.74</td>\n",
       "    </tr>\n",
       "    <tr>\n",
       "      <th>Haellysu29</th>\n",
       "      <td>4.24</td>\n",
       "      <td>3</td>\n",
       "      <td>12.73</td>\n",
       "    </tr>\n",
       "    <tr>\n",
       "      <th>Eoda93</th>\n",
       "      <td>3.86</td>\n",
       "      <td>3</td>\n",
       "      <td>11.58</td>\n",
       "    </tr>\n",
       "  </tbody>\n",
       "</table>\n",
       "</div>"
      ],
      "text/plain": [
       "             Average Purchase Price  Purchase Coount  Total Purchase Value\n",
       "SN                                                                        \n",
       "Undirrala66                    3.41                5                 17.06\n",
       "Saedue76                       3.39                4                 13.56\n",
       "Mindimnya67                    3.18                4                 12.74\n",
       "Haellysu29                     4.24                3                 12.73\n",
       "Eoda93                         3.86                3                 11.58"
      ]
     },
     "execution_count": 76,
     "metadata": {},
     "output_type": "execute_result"
    }
   ],
   "source": [
    "#Sort our DataFrame to show the top 5 spenders:\n",
    "top_five_spenders = total_user_data.sort_values(\"Total Purchase Value\", ascending=False)\n",
    "top_five_spenders.head()"
   ]
  },
  {
   "cell_type": "code",
   "execution_count": null,
   "metadata": {},
   "outputs": [],
   "source": []
  },
  {
   "cell_type": "code",
   "execution_count": 82,
   "metadata": {},
   "outputs": [
    {
     "data": {
      "text/html": [
       "<div>\n",
       "<style scoped>\n",
       "    .dataframe tbody tr th:only-of-type {\n",
       "        vertical-align: middle;\n",
       "    }\n",
       "\n",
       "    .dataframe tbody tr th {\n",
       "        vertical-align: top;\n",
       "    }\n",
       "\n",
       "    .dataframe thead th {\n",
       "        text-align: right;\n",
       "    }\n",
       "</style>\n",
       "<table border=\"1\" class=\"dataframe\">\n",
       "  <thead>\n",
       "    <tr style=\"text-align: right;\">\n",
       "      <th></th>\n",
       "      <th></th>\n",
       "      <th>Item Price</th>\n",
       "      <th>Most Profitable</th>\n",
       "      <th>Purchase Count</th>\n",
       "      <th>Total Purchase Value</th>\n",
       "    </tr>\n",
       "    <tr>\n",
       "      <th>Item ID</th>\n",
       "      <th>Item Name</th>\n",
       "      <th></th>\n",
       "      <th></th>\n",
       "      <th></th>\n",
       "      <th></th>\n",
       "    </tr>\n",
       "  </thead>\n",
       "  <tbody>\n",
       "    <tr>\n",
       "      <th>0</th>\n",
       "      <th>Splinter</th>\n",
       "      <td>1.82</td>\n",
       "      <td>1.82</td>\n",
       "      <td>1</td>\n",
       "      <td>1.82</td>\n",
       "    </tr>\n",
       "    <tr>\n",
       "      <th>1</th>\n",
       "      <th>Crucifer</th>\n",
       "      <td>2.28</td>\n",
       "      <td>36.48</td>\n",
       "      <td>4</td>\n",
       "      <td>9.12</td>\n",
       "    </tr>\n",
       "    <tr>\n",
       "      <th>2</th>\n",
       "      <th>Verdict</th>\n",
       "      <td>3.40</td>\n",
       "      <td>3.40</td>\n",
       "      <td>1</td>\n",
       "      <td>3.40</td>\n",
       "    </tr>\n",
       "    <tr>\n",
       "      <th>3</th>\n",
       "      <th>Phantomlight</th>\n",
       "      <td>1.79</td>\n",
       "      <td>1.79</td>\n",
       "      <td>1</td>\n",
       "      <td>1.79</td>\n",
       "    </tr>\n",
       "    <tr>\n",
       "      <th>4</th>\n",
       "      <th>Bloodlord's Fetish</th>\n",
       "      <td>2.28</td>\n",
       "      <td>2.28</td>\n",
       "      <td>1</td>\n",
       "      <td>2.28</td>\n",
       "    </tr>\n",
       "  </tbody>\n",
       "</table>\n",
       "</div>"
      ],
      "text/plain": [
       "                            Item Price  Most Profitable  Purchase Count  \\\n",
       "Item ID Item Name                                                         \n",
       "0       Splinter                  1.82             1.82               1   \n",
       "1       Crucifer                  2.28            36.48               4   \n",
       "2       Verdict                   3.40             3.40               1   \n",
       "3       Phantomlight              1.79             1.79               1   \n",
       "4       Bloodlord's Fetish        2.28             2.28               1   \n",
       "\n",
       "                            Total Purchase Value  \n",
       "Item ID Item Name                                 \n",
       "0       Splinter                            1.82  \n",
       "1       Crucifer                            9.12  \n",
       "2       Verdict                             3.40  \n",
       "3       Phantomlight                        1.79  \n",
       "4       Bloodlord's Fetish                  2.28  "
      ]
     },
     "execution_count": 82,
     "metadata": {},
     "output_type": "execute_result"
    }
   ],
   "source": [
    "# Total Items Purchase Analysis \n",
    "items_purchase_count = purchase_data_df.groupby([\"Item ID\", \"Item Name\"]).count()[\"Price\"].rename(\"Purchase Count\")\n",
    "items_average_count = purchase_data_df.groupby([\"Item ID\", \"Item Name\"]).mean()[\"Price\"].rename(\"Average Purchase Price\")\n",
    "items_value_total = purchase_data_df.groupby([\"Item ID\", \"Item Name\"]).sum()[\"Price\"].rename(\"Total Purchase Value\")\n",
    "\n",
    "#Convert into our DataFrame using pandas\n",
    "\n",
    "items_purchased = pd.DataFrame({\"Purchase Count\": items_purchase_count,\n",
    "                               \"Item Price\": items_average_count,\n",
    "                                \"Total Purchase Value\": items_value_total,\n",
    "                               \"Most Profitable\":(items_purchase_count*items_value_total)})\n",
    "items_purchased.head()\n",
    "\n"
   ]
  },
  {
   "cell_type": "code",
   "execution_count": 84,
   "metadata": {},
   "outputs": [
    {
     "data": {
      "text/html": [
       "<div>\n",
       "<style scoped>\n",
       "    .dataframe tbody tr th:only-of-type {\n",
       "        vertical-align: middle;\n",
       "    }\n",
       "\n",
       "    .dataframe tbody tr th {\n",
       "        vertical-align: top;\n",
       "    }\n",
       "\n",
       "    .dataframe thead th {\n",
       "        text-align: right;\n",
       "    }\n",
       "</style>\n",
       "<table border=\"1\" class=\"dataframe\">\n",
       "  <thead>\n",
       "    <tr style=\"text-align: right;\">\n",
       "      <th></th>\n",
       "      <th></th>\n",
       "      <th>Item Price</th>\n",
       "      <th>Most Profitable</th>\n",
       "      <th>Purchase Count</th>\n",
       "      <th>Total Purchase Value</th>\n",
       "    </tr>\n",
       "    <tr>\n",
       "      <th>Item ID</th>\n",
       "      <th>Item Name</th>\n",
       "      <th></th>\n",
       "      <th></th>\n",
       "      <th></th>\n",
       "      <th></th>\n",
       "    </tr>\n",
       "  </thead>\n",
       "  <tbody>\n",
       "    <tr>\n",
       "      <th>39</th>\n",
       "      <th>Betrayal, Whisper of Grieving Widows</th>\n",
       "      <td>2.35</td>\n",
       "      <td>284.35</td>\n",
       "      <td>11</td>\n",
       "      <td>25.85</td>\n",
       "    </tr>\n",
       "    <tr>\n",
       "      <th>84</th>\n",
       "      <th>Arcane Gem</th>\n",
       "      <td>2.23</td>\n",
       "      <td>269.83</td>\n",
       "      <td>11</td>\n",
       "      <td>24.53</td>\n",
       "    </tr>\n",
       "    <tr>\n",
       "      <th>31</th>\n",
       "      <th>Trickster</th>\n",
       "      <td>2.07</td>\n",
       "      <td>167.67</td>\n",
       "      <td>9</td>\n",
       "      <td>18.63</td>\n",
       "    </tr>\n",
       "    <tr>\n",
       "      <th>175</th>\n",
       "      <th>Woeful Adamantite Claymore</th>\n",
       "      <td>1.24</td>\n",
       "      <td>100.44</td>\n",
       "      <td>9</td>\n",
       "      <td>11.16</td>\n",
       "    </tr>\n",
       "    <tr>\n",
       "      <th>13</th>\n",
       "      <th>Serenity</th>\n",
       "      <td>1.49</td>\n",
       "      <td>120.69</td>\n",
       "      <td>9</td>\n",
       "      <td>13.41</td>\n",
       "    </tr>\n",
       "  </tbody>\n",
       "</table>\n",
       "</div>"
      ],
      "text/plain": [
       "                                              Item Price  Most Profitable  \\\n",
       "Item ID Item Name                                                           \n",
       "39      Betrayal, Whisper of Grieving Widows        2.35           284.35   \n",
       "84      Arcane Gem                                  2.23           269.83   \n",
       "31      Trickster                                   2.07           167.67   \n",
       "175     Woeful Adamantite Claymore                  1.24           100.44   \n",
       "13      Serenity                                    1.49           120.69   \n",
       "\n",
       "                                              Purchase Count  \\\n",
       "Item ID Item Name                                              \n",
       "39      Betrayal, Whisper of Grieving Widows              11   \n",
       "84      Arcane Gem                                        11   \n",
       "31      Trickster                                          9   \n",
       "175     Woeful Adamantite Claymore                         9   \n",
       "13      Serenity                                           9   \n",
       "\n",
       "                                              Total Purchase Value  \n",
       "Item ID Item Name                                                   \n",
       "39      Betrayal, Whisper of Grieving Widows                 25.85  \n",
       "84      Arcane Gem                                           24.53  \n",
       "31      Trickster                                            18.63  \n",
       "175     Woeful Adamantite Claymore                           11.16  \n",
       "13      Serenity                                             13.41  "
      ]
     },
     "execution_count": 84,
     "metadata": {},
     "output_type": "execute_result"
    }
   ],
   "source": [
    "#Most Popular Items: \n",
    "most_popular_items = items_purchased.sort_values(\"Purchase Count\", ascending = False)\n",
    "most_popular_items.head()"
   ]
  },
  {
   "cell_type": "code",
   "execution_count": 83,
   "metadata": {},
   "outputs": [
    {
     "data": {
      "text/html": [
       "<div>\n",
       "<style scoped>\n",
       "    .dataframe tbody tr th:only-of-type {\n",
       "        vertical-align: middle;\n",
       "    }\n",
       "\n",
       "    .dataframe tbody tr th {\n",
       "        vertical-align: top;\n",
       "    }\n",
       "\n",
       "    .dataframe thead th {\n",
       "        text-align: right;\n",
       "    }\n",
       "</style>\n",
       "<table border=\"1\" class=\"dataframe\">\n",
       "  <thead>\n",
       "    <tr style=\"text-align: right;\">\n",
       "      <th></th>\n",
       "      <th></th>\n",
       "      <th>Item Price</th>\n",
       "      <th>Most Profitable</th>\n",
       "      <th>Purchase Count</th>\n",
       "      <th>Total Purchase Value</th>\n",
       "    </tr>\n",
       "    <tr>\n",
       "      <th>Item ID</th>\n",
       "      <th>Item Name</th>\n",
       "      <th></th>\n",
       "      <th></th>\n",
       "      <th></th>\n",
       "      <th></th>\n",
       "    </tr>\n",
       "  </thead>\n",
       "  <tbody>\n",
       "    <tr>\n",
       "      <th>34</th>\n",
       "      <th>Retribution Axe</th>\n",
       "      <td>4.14</td>\n",
       "      <td>335.34</td>\n",
       "      <td>9</td>\n",
       "      <td>37.26</td>\n",
       "    </tr>\n",
       "    <tr>\n",
       "      <th>39</th>\n",
       "      <th>Betrayal, Whisper of Grieving Widows</th>\n",
       "      <td>2.35</td>\n",
       "      <td>284.35</td>\n",
       "      <td>11</td>\n",
       "      <td>25.85</td>\n",
       "    </tr>\n",
       "    <tr>\n",
       "      <th>84</th>\n",
       "      <th>Arcane Gem</th>\n",
       "      <td>2.23</td>\n",
       "      <td>269.83</td>\n",
       "      <td>11</td>\n",
       "      <td>24.53</td>\n",
       "    </tr>\n",
       "    <tr>\n",
       "      <th>107</th>\n",
       "      <th>Splitter, Foe Of Subtlety</th>\n",
       "      <td>3.61</td>\n",
       "      <td>231.04</td>\n",
       "      <td>8</td>\n",
       "      <td>28.88</td>\n",
       "    </tr>\n",
       "    <tr>\n",
       "      <th>115</th>\n",
       "      <th>Spectral Diamond Doomblade</th>\n",
       "      <td>4.25</td>\n",
       "      <td>208.25</td>\n",
       "      <td>7</td>\n",
       "      <td>29.75</td>\n",
       "    </tr>\n",
       "  </tbody>\n",
       "</table>\n",
       "</div>"
      ],
      "text/plain": [
       "                                              Item Price  Most Profitable  \\\n",
       "Item ID Item Name                                                           \n",
       "34      Retribution Axe                             4.14           335.34   \n",
       "39      Betrayal, Whisper of Grieving Widows        2.35           284.35   \n",
       "84      Arcane Gem                                  2.23           269.83   \n",
       "107     Splitter, Foe Of Subtlety                   3.61           231.04   \n",
       "115     Spectral Diamond Doomblade                  4.25           208.25   \n",
       "\n",
       "                                              Purchase Count  \\\n",
       "Item ID Item Name                                              \n",
       "34      Retribution Axe                                    9   \n",
       "39      Betrayal, Whisper of Grieving Widows              11   \n",
       "84      Arcane Gem                                        11   \n",
       "107     Splitter, Foe Of Subtlety                          8   \n",
       "115     Spectral Diamond Doomblade                         7   \n",
       "\n",
       "                                              Total Purchase Value  \n",
       "Item ID Item Name                                                   \n",
       "34      Retribution Axe                                      37.26  \n",
       "39      Betrayal, Whisper of Grieving Widows                 25.85  \n",
       "84      Arcane Gem                                           24.53  \n",
       "107     Splitter, Foe Of Subtlety                            28.88  \n",
       "115     Spectral Diamond Doomblade                           29.75  "
      ]
     },
     "execution_count": 83,
     "metadata": {},
     "output_type": "execute_result"
    }
   ],
   "source": [
    "#Most Profitable Items: \n",
    "most_profitable_items = items_purchased.sort_values(\"Most Profitable\", ascending = False)\n",
    "most_profitable_items.head()"
   ]
  },
  {
   "cell_type": "code",
   "execution_count": null,
   "metadata": {},
   "outputs": [],
   "source": []
  },
  {
   "cell_type": "code",
   "execution_count": null,
   "metadata": {},
   "outputs": [],
   "source": []
  },
  {
   "cell_type": "code",
   "execution_count": null,
   "metadata": {},
   "outputs": [],
   "source": [
    "# As final considerations:\n",
    "\n",
    "#Your script must work for both data-sets given.\n",
    "#You must use the Pandas Library and the Jupyter Notebook.\n",
    "#You must submit a link to your Jupyter Notebook with the viewable Data Frames.\n",
    "#You must include an exported markdown version of your Notebook called  README.md in your GitHub repository.\n",
    "#You must include a written description of three observable trends based on the data.\n",
    "#See Example Solution for a reference on expected format."
   ]
  },
  {
   "cell_type": "code",
   "execution_count": null,
   "metadata": {},
   "outputs": [],
   "source": [
    "#NOTES\n",
    "#Gender Demographicstotal_gender = attended_bootcamp[\"Gender\"].count()\n",
    "#male = purchase_data_df[\"Gender\"].value_counts()['male']\n",
    "#female = purchase_data_df[\"Gender\"].value_counts()['female']\n",
    "#total_gender = purchase_data_df[\"Gender\"].count()\n",
    "#male = purchase_data_df[\"Gender\"].value_counts()['male']\n",
    "#female = purchase_data_df[\"Gender\"].value_counts()['female']\n",
    "#print(f\" Total: {total_gender}\\n Male: {male}\\n Female: {female}\\n#Percentage and Count of Male Players\")\n",
    "\n",
    "#Percentage and Count of Female Players\n",
    "\n",
    "#Percentage and Count of Other / Non-Disclosed"
   ]
  }
 ],
 "metadata": {
  "kernelspec": {
   "display_name": "Python 3",
   "language": "python",
   "name": "python3"
  },
  "language_info": {
   "codemirror_mode": {
    "name": "ipython",
    "version": 3
   },
   "file_extension": ".py",
   "mimetype": "text/x-python",
   "name": "python",
   "nbconvert_exporter": "python",
   "pygments_lexer": "ipython3",
   "version": "3.6.4"
  }
 },
 "nbformat": 4,
 "nbformat_minor": 2
}
